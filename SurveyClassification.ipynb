{
 "cells": [
  {
   "cell_type": "code",
   "execution_count": 1,
   "metadata": {},
   "outputs": [],
   "source": [
    "#Basic categorical encoding using OneHotEncoding module\n",
    "#reference https://www.dataquest.io/blog/sci-kit-learn-tutorial/\n",
    "#also reference Pragmatic Marketing Data Science II lecture/exercises\n",
    "\n",
    "%matplotlib inline\n",
    "import matplotlib\n",
    "import seaborn as sns\n",
    "sns.set()\n",
    "matplotlib.rcParams['figure.dpi'] = 144"
   ]
  },
  {
   "cell_type": "markdown",
   "metadata": {},
   "source": [
    "Load the survey data."
   ]
  },
  {
   "cell_type": "code",
   "execution_count": 2,
   "metadata": {},
   "outputs": [
    {
     "data": {
      "text/html": [
       "<div>\n",
       "<style scoped>\n",
       "    .dataframe tbody tr th:only-of-type {\n",
       "        vertical-align: middle;\n",
       "    }\n",
       "\n",
       "    .dataframe tbody tr th {\n",
       "        vertical-align: top;\n",
       "    }\n",
       "\n",
       "    .dataframe thead th {\n",
       "        text-align: right;\n",
       "    }\n",
       "</style>\n",
       "<table border=\"1\" class=\"dataframe\">\n",
       "  <thead>\n",
       "    <tr style=\"text-align: right;\">\n",
       "      <th></th>\n",
       "      <th>Timestamp</th>\n",
       "      <th>Approximately how many games do you attend each season?</th>\n",
       "      <th>What is your favorite team?</th>\n",
       "      <th>Do you identify as LGBTQ+ ?</th>\n",
       "      <th>Did your favorite team host a Pride Night this season?</th>\n",
       "      <th>Did you attend Pride Night this season?</th>\n",
       "      <th>When planning future trips to the ballpark:</th>\n",
       "      <th>If your team hosts a Pride Night,  what do you think of the promotion and production? [Advertising]</th>\n",
       "      <th>If your team hosts a Pride Night,  what do you think of the promotion and production? [Pre-Game Activities]</th>\n",
       "      <th>If your team hosts a Pride Night,  what do you think of the promotion and production? [In-Game Entertainment/Features]</th>\n",
       "      <th>If your team hosts a Pride Night,  what do you think of the promotion and production? [Promotional Items]</th>\n",
       "      <th>What is your overall impression of MLB Pride Night themes?</th>\n",
       "      <th>What is your favorite themed night or promotion to attend?</th>\n",
       "    </tr>\n",
       "  </thead>\n",
       "  <tbody>\n",
       "    <tr>\n",
       "      <th>0</th>\n",
       "      <td>9/19/2019 22:26</td>\n",
       "      <td>43470</td>\n",
       "      <td>St. Louis Cardinals</td>\n",
       "      <td>No</td>\n",
       "      <td>Yes</td>\n",
       "      <td>Didn't attend, but not because of Pride Night</td>\n",
       "      <td>I would go out of my way to attend on Pride Night</td>\n",
       "      <td>Just the right amount</td>\n",
       "      <td>Don't know/unaware of this feature</td>\n",
       "      <td>Don't know/unaware of this feature</td>\n",
       "      <td>Just the right amount</td>\n",
       "      <td>They’re great</td>\n",
       "      <td>I haven’t attended any</td>\n",
       "    </tr>\n",
       "    <tr>\n",
       "      <th>1</th>\n",
       "      <td>9/19/2019 22:28</td>\n",
       "      <td>43626</td>\n",
       "      <td>Atlanta Braves</td>\n",
       "      <td>No</td>\n",
       "      <td>Yes</td>\n",
       "      <td>Didn't attend, but not because of Pride Night</td>\n",
       "      <td>Pride Night would not influence my choice of game</td>\n",
       "      <td>Just the right amount</td>\n",
       "      <td>Don't know/unaware of this feature</td>\n",
       "      <td>Don't know/unaware of this feature</td>\n",
       "      <td>Don't know/unaware of this feature</td>\n",
       "      <td>I'm all for inclusion and hope it brings fans ...</td>\n",
       "      <td>Star Wars Night, but themed nights don't reall...</td>\n",
       "    </tr>\n",
       "    <tr>\n",
       "      <th>2</th>\n",
       "      <td>9/19/2019 22:29</td>\n",
       "      <td>43470</td>\n",
       "      <td>New York Yankees</td>\n",
       "      <td>No</td>\n",
       "      <td>I don't know</td>\n",
       "      <td>Didn't attend, but not because of Pride Night</td>\n",
       "      <td>Pride Night would not influence my choice of game</td>\n",
       "      <td>Don't know/unaware of this feature</td>\n",
       "      <td>Don't know/unaware of this feature</td>\n",
       "      <td>Don't know/unaware of this feature</td>\n",
       "      <td>Don't know/unaware of this feature</td>\n",
       "      <td>Don’t care</td>\n",
       "      <td>Don’t know</td>\n",
       "    </tr>\n",
       "    <tr>\n",
       "      <th>3</th>\n",
       "      <td>9/19/2019 22:29</td>\n",
       "      <td>43470</td>\n",
       "      <td>St. Louis Cardinals</td>\n",
       "      <td>Yes</td>\n",
       "      <td>I don't know</td>\n",
       "      <td>Didn't attend, but not because of Pride Night</td>\n",
       "      <td>Pride Night would not influence my choice of game</td>\n",
       "      <td>Just the right amount</td>\n",
       "      <td>Just the right amount</td>\n",
       "      <td>Don't know/unaware of this feature</td>\n",
       "      <td>Just the right amount</td>\n",
       "      <td>Very cool</td>\n",
       "      <td>Bring your dog to the park.</td>\n",
       "    </tr>\n",
       "    <tr>\n",
       "      <th>4</th>\n",
       "      <td>9/19/2019 22:30</td>\n",
       "      <td>43470</td>\n",
       "      <td>Atlanta Braves</td>\n",
       "      <td>Prefer not to answer</td>\n",
       "      <td>Yes</td>\n",
       "      <td>Didn't attend, but not because of Pride Night</td>\n",
       "      <td>Pride Night would not influence my choice of game</td>\n",
       "      <td>Just the right amount</td>\n",
       "      <td>Don't know/unaware of this feature</td>\n",
       "      <td>Don't know/unaware of this feature</td>\n",
       "      <td>Don't know/unaware of this feature</td>\n",
       "      <td>I don’t care</td>\n",
       "      <td>I don’t care</td>\n",
       "    </tr>\n",
       "  </tbody>\n",
       "</table>\n",
       "</div>"
      ],
      "text/plain": [
       "         Timestamp Approximately how many games do you attend each season?  \\\n",
       "0  9/19/2019 22:26                                              43470        \n",
       "1  9/19/2019 22:28                                              43626        \n",
       "2  9/19/2019 22:29                                              43470        \n",
       "3  9/19/2019 22:29                                              43470        \n",
       "4  9/19/2019 22:30                                              43470        \n",
       "\n",
       "  What is your favorite team? Do you identify as LGBTQ+ ?  \\\n",
       "0         St. Louis Cardinals                          No   \n",
       "1              Atlanta Braves                          No   \n",
       "2            New York Yankees                          No   \n",
       "3         St. Louis Cardinals                         Yes   \n",
       "4              Atlanta Braves        Prefer not to answer   \n",
       "\n",
       "  Did your favorite team host a Pride Night this season?  \\\n",
       "0                                                Yes       \n",
       "1                                                Yes       \n",
       "2                                       I don't know       \n",
       "3                                       I don't know       \n",
       "4                                                Yes       \n",
       "\n",
       "         Did you attend Pride Night this season?  \\\n",
       "0  Didn't attend, but not because of Pride Night   \n",
       "1  Didn't attend, but not because of Pride Night   \n",
       "2  Didn't attend, but not because of Pride Night   \n",
       "3  Didn't attend, but not because of Pride Night   \n",
       "4  Didn't attend, but not because of Pride Night   \n",
       "\n",
       "         When planning future trips to the ballpark:  \\\n",
       "0  I would go out of my way to attend on Pride Night   \n",
       "1  Pride Night would not influence my choice of game   \n",
       "2  Pride Night would not influence my choice of game   \n",
       "3  Pride Night would not influence my choice of game   \n",
       "4  Pride Night would not influence my choice of game   \n",
       "\n",
       "  If your team hosts a Pride Night,  what do you think of the promotion and production? [Advertising]  \\\n",
       "0                              Just the right amount                                                    \n",
       "1                              Just the right amount                                                    \n",
       "2                 Don't know/unaware of this feature                                                    \n",
       "3                              Just the right amount                                                    \n",
       "4                              Just the right amount                                                    \n",
       "\n",
       "  If your team hosts a Pride Night,  what do you think of the promotion and production? [Pre-Game Activities]  \\\n",
       "0                 Don't know/unaware of this feature                                                            \n",
       "1                 Don't know/unaware of this feature                                                            \n",
       "2                 Don't know/unaware of this feature                                                            \n",
       "3                              Just the right amount                                                            \n",
       "4                 Don't know/unaware of this feature                                                            \n",
       "\n",
       "  If your team hosts a Pride Night,  what do you think of the promotion and production? [In-Game Entertainment/Features]  \\\n",
       "0                 Don't know/unaware of this feature                                                                       \n",
       "1                 Don't know/unaware of this feature                                                                       \n",
       "2                 Don't know/unaware of this feature                                                                       \n",
       "3                 Don't know/unaware of this feature                                                                       \n",
       "4                 Don't know/unaware of this feature                                                                       \n",
       "\n",
       "  If your team hosts a Pride Night,  what do you think of the promotion and production? [Promotional Items]  \\\n",
       "0                              Just the right amount                                                          \n",
       "1                 Don't know/unaware of this feature                                                          \n",
       "2                 Don't know/unaware of this feature                                                          \n",
       "3                              Just the right amount                                                          \n",
       "4                 Don't know/unaware of this feature                                                          \n",
       "\n",
       "  What is your overall impression of MLB Pride Night themes?  \\\n",
       "0                                     They’re great            \n",
       "1  I'm all for inclusion and hope it brings fans ...           \n",
       "2                                         Don’t care           \n",
       "3                                          Very cool           \n",
       "4                                       I don’t care           \n",
       "\n",
       "  What is your favorite themed night or promotion to attend?  \n",
       "0                            I haven’t attended any           \n",
       "1  Star Wars Night, but themed nights don't reall...          \n",
       "2                                         Don’t know          \n",
       "3                        Bring your dog to the park.          \n",
       "4                                       I don’t care          "
      ]
     },
     "execution_count": 2,
     "metadata": {},
     "output_type": "execute_result"
    }
   ],
   "source": [
    "import pandas as pd\n",
    "\n",
    "df_survey = pd.read_csv('master_csv/ThePrideProjectSurvey.csv')\n",
    "\n",
    "df_survey.head()"
   ]
  },
  {
   "cell_type": "code",
   "execution_count": 3,
   "metadata": {},
   "outputs": [
    {
     "name": "stdout",
     "output_type": "stream",
     "text": [
      "Number of observations:  475\n",
      "Number of features:  13\n"
     ]
    }
   ],
   "source": [
    "print('Number of observations: ', df_survey.shape[0])\n",
    "print('Number of features: ', df_survey.shape[1])"
   ]
  },
  {
   "cell_type": "markdown",
   "metadata": {},
   "source": [
    "## Create a subset of the data and tidy it up. "
   ]
  },
  {
   "cell_type": "code",
   "execution_count": 5,
   "metadata": {},
   "outputs": [
    {
     "data": {
      "text/html": [
       "<div>\n",
       "<style scoped>\n",
       "    .dataframe tbody tr th:only-of-type {\n",
       "        vertical-align: middle;\n",
       "    }\n",
       "\n",
       "    .dataframe tbody tr th {\n",
       "        vertical-align: top;\n",
       "    }\n",
       "\n",
       "    .dataframe thead th {\n",
       "        text-align: right;\n",
       "    }\n",
       "</style>\n",
       "<table border=\"1\" class=\"dataframe\">\n",
       "  <thead>\n",
       "    <tr style=\"text-align: right;\">\n",
       "      <th></th>\n",
       "      <th>What is your favorite team?</th>\n",
       "      <th>Do you identify as LGBTQ+ ?</th>\n",
       "      <th>When planning future trips to the ballpark:</th>\n",
       "    </tr>\n",
       "  </thead>\n",
       "  <tbody>\n",
       "    <tr>\n",
       "      <th>0</th>\n",
       "      <td>St. Louis Cardinals</td>\n",
       "      <td>No</td>\n",
       "      <td>I would go out of my way to attend on Pride Night</td>\n",
       "    </tr>\n",
       "    <tr>\n",
       "      <th>1</th>\n",
       "      <td>Atlanta Braves</td>\n",
       "      <td>No</td>\n",
       "      <td>Pride Night would not influence my choice of game</td>\n",
       "    </tr>\n",
       "    <tr>\n",
       "      <th>2</th>\n",
       "      <td>New York Yankees</td>\n",
       "      <td>No</td>\n",
       "      <td>Pride Night would not influence my choice of game</td>\n",
       "    </tr>\n",
       "    <tr>\n",
       "      <th>3</th>\n",
       "      <td>St. Louis Cardinals</td>\n",
       "      <td>Yes</td>\n",
       "      <td>Pride Night would not influence my choice of game</td>\n",
       "    </tr>\n",
       "    <tr>\n",
       "      <th>4</th>\n",
       "      <td>Atlanta Braves</td>\n",
       "      <td>Prefer not to answer</td>\n",
       "      <td>Pride Night would not influence my choice of game</td>\n",
       "    </tr>\n",
       "  </tbody>\n",
       "</table>\n",
       "</div>"
      ],
      "text/plain": [
       "  What is your favorite team? Do you identify as LGBTQ+ ?  \\\n",
       "0         St. Louis Cardinals                          No   \n",
       "1              Atlanta Braves                          No   \n",
       "2            New York Yankees                          No   \n",
       "3         St. Louis Cardinals                         Yes   \n",
       "4              Atlanta Braves        Prefer not to answer   \n",
       "\n",
       "         When planning future trips to the ballpark:  \n",
       "0  I would go out of my way to attend on Pride Night  \n",
       "1  Pride Night would not influence my choice of game  \n",
       "2  Pride Night would not influence my choice of game  \n",
       "3  Pride Night would not influence my choice of game  \n",
       "4  Pride Night would not influence my choice of game  "
      ]
     },
     "execution_count": 5,
     "metadata": {},
     "output_type": "execute_result"
    }
   ],
   "source": [
    "df_survey_1 = df_survey[[\"What is your favorite team?\",\"Do you identify as LGBTQ+ ?\",\"When planning future trips to the ballpark:\"]]\n",
    "\n",
    "df_survey_1.head()"
   ]
  },
  {
   "cell_type": "code",
   "execution_count": 7,
   "metadata": {},
   "outputs": [
    {
     "name": "stdout",
     "output_type": "stream",
     "text": [
      "Index(['favteam', 'lgbtq', 'wouldgo'], dtype='object')\n"
     ]
    }
   ],
   "source": [
    "#rename the columns\n",
    "  \n",
    "df_survey_1.columns = ['favteam', 'lgbtq', 'wouldgo'] \n",
    "print(df_survey_1.columns) "
   ]
  },
  {
   "cell_type": "code",
   "execution_count": 8,
   "metadata": {},
   "outputs": [
    {
     "data": {
      "text/plain": [
       "array(['I would go out of my way to attend on Pride Night',\n",
       "       'Pride Night would not influence my choice of game',\n",
       "       'I would go out of my way to avoid Pride Night',\n",
       "       'I would only attend if I liked the promotional item', 'Undecided'],\n",
       "      dtype=object)"
      ]
     },
     "execution_count": 8,
     "metadata": {},
     "output_type": "execute_result"
    }
   ],
   "source": [
    "#review the unique responses\n",
    "df_survey_1.columns.unique"
   ]
  },
  {
   "cell_type": "markdown",
   "metadata": {},
   "source": [
    "## Encode the Categorical Variables"
   ]
  },
  {
   "cell_type": "code",
   "execution_count": 14,
   "metadata": {},
   "outputs": [
    {
     "data": {
      "text/plain": [
       "ColumnTransformer(n_jobs=None, remainder='passthrough', sparse_threshold=0.3,\n",
       "                  transformer_weights=None,\n",
       "                  transformers=[('ohe_on_all_categorical_features',\n",
       "                                 OneHotEncoder(categorical_features=None,\n",
       "                                               categories=None, drop=None,\n",
       "                                               dtype=<class 'numpy.float64'>,\n",
       "                                               handle_unknown='error',\n",
       "                                               n_values=None, sparse=False),\n",
       "                                 ['lgbtq', 'wouldgo'])],\n",
       "                  verbose=False)"
      ]
     },
     "execution_count": 14,
     "metadata": {},
     "output_type": "execute_result"
    }
   ],
   "source": [
    "X = df_survey_1.drop('favteam', axis=1)\n",
    "y = df_survey_1.favteam\n",
    "\n",
    "from sklearn.compose import ColumnTransformer\n",
    "from sklearn.preprocessing import OneHotEncoder\n",
    "\n",
    "transformer_name = 'ohe_on_all_categorical_features'\n",
    "transformer = OneHotEncoder(sparse=False)\n",
    "columns_to_encode = ['lgbtq', 'wouldgo']\n",
    "\n",
    "ohe_final = ColumnTransformer([\n",
    "    (transformer_name, transformer, columns_to_encode)], \n",
    "    remainder='passthrough')\n",
    "\n",
    "ohe_final.fit(X)"
   ]
  },
  {
   "cell_type": "code",
   "execution_count": 15,
   "metadata": {},
   "outputs": [
    {
     "data": {
      "text/plain": [
       "[array(['No', 'Prefer not to answer', 'Yes'], dtype=object),\n",
       " array(['I would go out of my way to attend on Pride Night',\n",
       "        'I would go out of my way to avoid Pride Night',\n",
       "        'I would only attend if I liked the promotional item',\n",
       "        'Pride Night would not influence my choice of game', 'Undecided'],\n",
       "       dtype=object)]"
      ]
     },
     "execution_count": 15,
     "metadata": {},
     "output_type": "execute_result"
    }
   ],
   "source": [
    "#review the categories\n",
    "ohe_final.named_transformers_[transformer_name].categories_"
   ]
  },
  {
   "cell_type": "code",
   "execution_count": 16,
   "metadata": {},
   "outputs": [
    {
     "data": {
      "text/plain": [
       "[(0, 'lgbtq'), (1, 'wouldgo')]"
      ]
     },
     "execution_count": 16,
     "metadata": {},
     "output_type": "execute_result"
    }
   ],
   "source": [
    "list(enumerate(X.columns))  #get a list of the columns and their index positions"
   ]
  },
  {
   "cell_type": "code",
   "execution_count": 17,
   "metadata": {},
   "outputs": [],
   "source": [
    "n_encode=(idx for idx, col in list(enumerate(X.columns)) if col in columns_to_encode)"
   ]
  },
  {
   "cell_type": "code",
   "execution_count": 18,
   "metadata": {},
   "outputs": [
    {
     "name": "stdout",
     "output_type": "stream",
     "text": [
      "<generator object <genexpr> at 0x00000258002251B0>\n"
     ]
    }
   ],
   "source": [
    "print(n_encode)"
   ]
  },
  {
   "cell_type": "code",
   "execution_count": 19,
   "metadata": {},
   "outputs": [
    {
     "name": "stdout",
     "output_type": "stream",
     "text": [
      "Shape of transformed data matrix:  (475, 8)\n"
     ]
    }
   ],
   "source": [
    "X_transformed = ohe_final.transform(X)\n",
    "print('Shape of transformed data matrix: ', X_transformed.shape)"
   ]
  },
  {
   "cell_type": "code",
   "execution_count": null,
   "metadata": {},
   "outputs": [],
   "source": [
    " "
   ]
  }
 ],
 "metadata": {
  "kernelspec": {
   "display_name": "Python 3",
   "language": "python",
   "name": "python3"
  },
  "language_info": {
   "codemirror_mode": {
    "name": "ipython",
    "version": 3
   },
   "file_extension": ".py",
   "mimetype": "text/x-python",
   "name": "python",
   "nbconvert_exporter": "python",
   "pygments_lexer": "ipython3",
   "version": "3.7.1"
  },
  "nbclean": true
 },
 "nbformat": 4,
 "nbformat_minor": 1
}
