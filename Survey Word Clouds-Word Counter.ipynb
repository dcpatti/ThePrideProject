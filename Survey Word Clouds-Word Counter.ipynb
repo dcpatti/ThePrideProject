{
 "cells": [
  {
   "cell_type": "markdown",
   "metadata": {},
   "source": [
    "##### An alternate approach to the word cloud will be to clean and count the words in Python, then visualize with Tableau or Flourish"
   ]
  },
  {
   "cell_type": "code",
   "execution_count": 1,
   "metadata": {},
   "outputs": [],
   "source": [
    "  \n",
    "from collections import Counter\n",
    "import numpy as np\n",
    "import pandas as pd\n",
    "import csv\n",
    "\n"
   ]
  },
  {
   "cell_type": "markdown",
   "metadata": {},
   "source": [
    "Load the pre-cleaned survey data."
   ]
  },
  {
   "cell_type": "markdown",
   "metadata": {},
   "source": [
    "Create the counter and make a dictionary of words and counts"
   ]
  },
  {
   "cell_type": "code",
   "execution_count": 4,
   "metadata": {},
   "outputs": [
    {
     "name": "stdout",
     "output_type": "stream",
     "text": [
      "Counter({'I': 83, 'the': 69, 'to': 56, 'a': 55, 'and': 55, 'it': 38, 'more': 30, 'of': 28, 'they': 26, 'but': 25, 'good': 25, 'be': 24, 'is': 24, 'think': 23, 'are': 21, 'for': 20, \"It's\": 20, 'like': 20, 'idea': 20, 'great': 19, 'love': 18, 'that': 17, 'community': 17, 'was': 17, 'them': 15, \"it's\": 15, 'The': 14, \"I'm\": 14, 'in': 14, 'really': 14, 'important': 13, 'do': 13, 'as': 12, 'MLB': 12, 'have': 12, 'Pride': 12, 'this': 11, 'out': 11, \"don't\": 11, 'one': 11, 'fan': 10, 'can': 10, 'Positive': 10, 'year': 9, 'positive': 9, 'fans': 9, 'queer': 9, 'Doolittle': 9, 'pride': 9, 'They': 8, 'Very': 8, 'energy': 8, 'fun': 8, 'Night': 8, 'great!': 8, 'baseball': 7, 'know': 7, 'would': 7, 'with': 7, 'teams': 7, 'just': 7, 'trying': 7, 'Mariners': 7, 'all': 6, 'about': 6, 'needs': 6, 'though': 6, 'not': 6, 'themes': 6, 'any': 6, 'lot': 6, 'It': 6, 'marketing': 6, 'All': 6, 'gay': 5, 'league': 5, 'Sean': 5, 'an': 5, 'LGBTQ': 5, 'we': 5, 'care': 5, 'Not': 5, 'helpful': 5, 'especially': 5, 'how': 5, 'need': 5, 'being': 5, \"They're\": 4, 'Good': 4, 'Yankees': 4, 'see': 4, 'them!': 4, 'doing': 4, 'A': 4, 'little': 4, 'hope': 4, 'Important': 4, 'went': 4, 'first': 4, 'where': 4, 'their': 4, 'night': 4, 'appreciate': 4, 'reaches': 4, 'support': 4, 'make': 4, '#rootedInOakland': 4, 'than': 4, 'Could': 4, 'still': 4, 'proud': 4, 'into': 4, 'better': 4, 'major': 4, 'does': 4, 'another': 4, 'representation': 4, 'at': 4, 'Mlb': 4, 'ball': 4, 'done': 3, 'very': 3, 'glad': 3, 'because': 3, 'LGBT': 3, 'wish': 3, 'means': 3, 'players': 3, 'supportive': 3, 'even': 3, 'promote': 3, 'feel': 3, 'much': 3, 'audience': 3, 'inclusivity': 3, 'LGBTQ+': 3, 'when': 3, 'team': 3, 'my': 3, 'everyone': 3, 'big': 3, 'youth': 3, 'Maybe': 3, 'help': 3, 'Glad': 3, 'talk': 3, 'Needs': 3, 'if': 3, 'exposure': 3, 'As': 3, 'Aight': 3, 'Dbacks': 3, 'outreach,': 3, 'women,': 3, 'Hispanics,': 3, 'etc': 3, 'Rainbows': 3, 'awesome': 3, 'Are': 3, 'addressing': 3, 'issues': 3, 'or': 3, 'celebrating': 3, 'folks': 3, 'meaningful': 3, 'way?': 3, 'Or': 3, 'cash': 3, 'in?': 3, 'commemorated': 3, 'Billy': 3, 'Bean': 3, 'year,': 3, 'Lance': 3, 'bass': 3, 'threw': 3, 'pitch': 3, 'pregame': 3, 'celebrations': 3, 'always': 3, 'clever': 3, 'thought': 3, 'spread': 3, 'pride,': 3, 'sports,': 3, 'has': 3, 'historically': 3, 'been': 3, 'lacking': 3, 'enough,': 3, 'subtle': 3, 'tasteful': 3, 'Strong': 3, 'cringy,': 3, \"haven't\": 3, 'attended': 3, 'yet,': 3, 'Like': 3, \"A's\": 3, 'encourage': 3, 'new': 3, 'come': 3, 'park': 3, 'job,': 3, 'mariners': 3, 'nats': 3, 'doolittle': 3, 'Smart': 3, 'wonderful': 3, 'huge': 2, 'welcome': 2, 'which': 2, 'also': 2, 'some': 2, 'us': 2, 'miss': 2, \"I've\": 2, 'never': 2, 'comfortable': 2, 'let': 2, 'ally': 2, 'cool': 2, 'these': 2, 'nights': 2, 'having': 2, 'cause/theme': 2, 'female': 2, 'non-traditional': 2, 'well': 2, 'Dolan': 2, 'theme': 2, 'am': 2, 'authentic': 2, 'up': 2, 'way': 2, 'Inclusion': 2, 'involve': 2, 'owners': 2, 'put': 2, 'it,': 2, 'live': 2, 'did': 2, 'including': 2, 'base': 2, 'Royals': 2, 'seem': 2, 'begrudgingly': 2, 'want': 2, 'fan,': 2, 'disappointed': 2, 'try': 2, 'harder': 2, 'next': 2, 'sell': 2, 'aware': 2, 'Sports': 2, 'venue': 2, 'job': 2, 'advertising': 2, 'start': 2, 'groups': 2, 'Love': 2, 'sure': 2, 'what': 2, 'theme,': 2, 'there': 2, 'something': 2, 'on': 2, 'top': 2, 'Sends': 2, 'signals': 2, 'tolerance': 2, 'promotion': 2, 'Getting': 2, 'stronger': 2, 'Good,': 2, 'season-long': 2, 'effort': 2, 'straight': 2, 'supporter': 2, 'inclusiveness': 2, 'Nats': 2, 'Park!': 2, 'me': 2, 'fan!': 2, 'Need': 2, 'more!': 2, \"isn't\": 2, 'broadcast': 2, 'should': 2, 'respectful': 2, 'it!': 2, 'milb': 2, 'events': 2, 'our': 2, 'merrier': 1, 'start,': 1, 'could': 1, 'happening': 1, 'Awesome': 1, 'Great,': 1, 'modern,': 1, 'Staten': 1, 'Island': 1, 'won': 1, 'wore': 1, 'rainbow': 1, 'pinstripes': 1, \"didn't\": 1, 'them,': 1, 'Pretty': 1, 'solid': 1, 'Promoting': 1, 'acceptance': 1, 'Positive!': 1, 'themselves': 1, 'full': 1, 'weekend': 1, 'games': 1, 'multiple': 1, 'items': 1, 'something,': 1, 'cheesy,': 1, 'person': 1, \"we'll\": 1, 'outwardly': 1, 'Tons': 1, 'stands': 1, 'wide': 1, 'few': 1, 'ones': 1, 'had': 1, 'We': 1, 'seen': 1, 'nights!': 1, 'grows': 1, 'future': 1, 'point': 1, 'enough': 1, 'own': 1, 'sexualities': 1, 'known': 1, \"Didn't\": 1, 'realize': 1, 'existed': 1, 'A+': 1, 'positivity,': 1, 'appreciated': 1, 'target': 1, 'Great': 1, 'sport': 1, 'Having': 1, 'Athletes': 1, 'tend': 1, 'liberal': 1, 'rights': 1, 'so': 1, 'many': 1, 'promoting': 1, 'diversity': 1, 'inclusion': 1, 'amazing,': 1, 'sort': 1, 'helps': 1, 'remove': 1, 'stigma': 1, 'against': 1, 'makes': 1, 'easier': 1, 'people': 1, 'accept': 1, 'members': 1, 'normal': 1, 'equal': 1, 'lovely': 1, 'publicized': 1, 'clearer': 1, 'league-wide': 1, 'Yay': 1, 'inclusive': 1, 'No': 1, 'impression': 1, 'tries': 1, 'part': 1, 'Eireanne': 1, 'were': 1, 'advocates': 1, 'allies': 1, 'day': 1, 'will': 1, 'player': 1, 'coming': 1, 'million': 1, 'different': 1, 'recognize': 1, 'Go': 1, \"A's!\": 1, 'making': 1, 'happen': 1, 'Shirts/hats': 1, 'Definitely': 1, 'initiative': 1, 'Astros': 1, 'children': 1, 'who': 1, 'heard': 1, 'Houston': 1, 'literally': 1, 'watch': 1, 'daily': 1, 'needed': 1, 'seems': 1, 'used': 1, 'Thanks': 1, 'celebrate': 1, \"they're\": 1, 'incredible': 1, 'opens': 1, 'sexuality': 1, 'healthy': 1, 'Other': 1, 'Right': 1, 'show': 1, 'friends': 1, 'educate': 1, 'public': 1, 'local': 1, 'world': 1, 'appreciation': 1, 'another,': 1, 'breathe': 1, 'same': 1, 'air': 1, 'after': 1, 'warms': 1, 'heart!': 1, 'ar': 1, 'great,': 1, 'by': 1, 'parks,': 1, 'attend!': 1, 'demographic': 1, 'often': 1, 'stereotyped': 1, 'non-sports': 1, 'step': 1, 'right': 1, 'direction': 1, 'Keep': 1, 'up!': 1, 'Needed': 1, 'There': 1, 'emphasis': 1, 'Live': 1, 'matters,': 1, 'concern': 1, 'looking': 1, 'money': 1, 'jerseys': 1, 'nationals': 1, 'excite': 1, 'happy': 1, 'strong': 1, 'authenitc': 1, 'represent': 1, 'team,': 1, 'too': 1, 'LGBTQ-items': 1, 'often,': 1, 'rather': 1, 'sporadically': 1, 'putting': 1, 'via': 1, 'online': 1, 'stores': 1, \"i'm\": 1, 'supportive!': 1, 'i': 1, 'nice': 1, 'such': 1, 'pushing': 1, 'publicity': 1, 'bisexual': 1, 'man,': 1, 'things': 1, '<3': 1, 'dolan': 1})\n"
     ]
    }
   ],
   "source": [
    "def word_count(fname):\n",
    "        with open(fname, \"r\",encoding='utf-8') as f:\n",
    "                return Counter(f.read().split())\n",
    "\n",
    "\n",
    "text_dict= word_count(\"text3_merged.txt\")\n",
    "\n",
    "print(text_dict)"
   ]
  },
  {
   "cell_type": "code",
   "execution_count": 5,
   "metadata": {},
   "outputs": [],
   "source": [
    "# Save it to a file so we can feed the counts to another application\n",
    "\n",
    "w = csv.writer(open(\"output_merged3count.csv\", \"w\", encoding='utf-8'))\n",
    "for key, val in text_dict.items():\n",
    "    w.writerow([key, val])"
   ]
  },
  {
   "cell_type": "code",
   "execution_count": null,
   "metadata": {},
   "outputs": [],
   "source": []
  }
 ],
 "metadata": {
  "kernelspec": {
   "display_name": "Python 3",
   "language": "python",
   "name": "python3"
  },
  "language_info": {
   "codemirror_mode": {
    "name": "ipython",
    "version": 3
   },
   "file_extension": ".py",
   "mimetype": "text/x-python",
   "name": "python",
   "nbconvert_exporter": "python",
   "pygments_lexer": "ipython3",
   "version": "3.7.1"
  },
  "nbclean": true
 },
 "nbformat": 4,
 "nbformat_minor": 1
}
